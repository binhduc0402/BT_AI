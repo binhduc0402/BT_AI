{
  "nbformat": 4,
  "nbformat_minor": 0,
  "metadata": {
    "colab": {
      "provenance": [],
      "authorship_tag": "ABX9TyMlNhcwyFuqxzd37NcMy5+J",
      "include_colab_link": true
    },
    "kernelspec": {
      "name": "python3",
      "display_name": "Python 3"
    },
    "language_info": {
      "name": "python"
    }
  },
  "cells": [
    {
      "cell_type": "markdown",
      "metadata": {
        "id": "view-in-github",
        "colab_type": "text"
      },
      "source": [
        "<a href=\"https://colab.research.google.com/github/binhduc0402/BT_AI/blob/main/Power.ipynb\" target=\"_parent\"><img src=\"https://colab.research.google.com/assets/colab-badge.svg\" alt=\"Open In Colab\"/></a>"
      ]
    },
    {
      "cell_type": "code",
      "source": [
        "pip install scikit-fuzzy"
      ],
      "metadata": {
        "colab": {
          "base_uri": "https://localhost:8080/"
        },
        "id": "b64kX843tQ4G",
        "outputId": "2e7fc989-0a32-4c8d-c3b3-29a2b650ccec"
      },
      "execution_count": 4,
      "outputs": [
        {
          "output_type": "stream",
          "name": "stdout",
          "text": [
            "Looking in indexes: https://pypi.org/simple, https://us-python.pkg.dev/colab-wheels/public/simple/\n",
            "Collecting scikit-fuzzy\n",
            "  Downloading scikit-fuzzy-0.4.2.tar.gz (993 kB)\n",
            "\u001b[2K     \u001b[90m━━━━━━━━━━━━━━━━━━━━━━━━━━━━━━━━━━━━━━\u001b[0m \u001b[32m994.0/994.0 KB\u001b[0m \u001b[31m12.3 MB/s\u001b[0m eta \u001b[36m0:00:00\u001b[0m\n",
            "\u001b[?25h  Preparing metadata (setup.py) ... \u001b[?25l\u001b[?25hdone\n",
            "Requirement already satisfied: numpy>=1.6.0 in /usr/local/lib/python3.8/dist-packages (from scikit-fuzzy) (1.22.4)\n",
            "Requirement already satisfied: scipy>=0.9.0 in /usr/local/lib/python3.8/dist-packages (from scikit-fuzzy) (1.7.3)\n",
            "Requirement already satisfied: networkx>=1.9.0 in /usr/local/lib/python3.8/dist-packages (from scikit-fuzzy) (3.0)\n",
            "Building wheels for collected packages: scikit-fuzzy\n",
            "  Building wheel for scikit-fuzzy (setup.py) ... \u001b[?25l\u001b[?25hdone\n",
            "  Created wheel for scikit-fuzzy: filename=scikit_fuzzy-0.4.2-py3-none-any.whl size=894088 sha256=4121683b613cb602ebed7df331fd4ce655148b38b164c4928cf928ab713388e7\n",
            "  Stored in directory: /root/.cache/pip/wheels/2c/04/80/7eefb1a2de7d36aefd06432fab2a1486caf0a0596a7067391a\n",
            "Successfully built scikit-fuzzy\n",
            "Installing collected packages: scikit-fuzzy\n",
            "Successfully installed scikit-fuzzy-0.4.2\n"
          ]
        }
      ]
    },
    {
      "cell_type": "code",
      "execution_count": 12,
      "metadata": {
        "colab": {
          "base_uri": "https://localhost:8080/"
        },
        "id": "JxscXWGvklqh",
        "outputId": "6136fa6e-5029-49bd-cd5f-228ebebfdb1d"
      },
      "outputs": [
        {
          "output_type": "stream",
          "name": "stdout",
          "text": [
            "30.000000000000007\n"
          ]
        }
      ],
      "source": [
        "import skfuzzy as fuzzy\n",
        "import numpy as np\n",
        "import matplotlib.pyplot as plt\n",
        "from skfuzzy import control as ctrl\n",
        "time=ctrl.Antecedent(np.arange(10,300,1),'time')\n",
        "rice=ctrl.Antecedent(np.arange(100,200,1),'rice')\n",
        "power=ctrl.Consequent(np.arange(0,100,1),'power')\n",
        "\n",
        "time['very_fast']=fuzzy.trimf(time.universe,[0,0,40])\n",
        "time['fast']=fuzzy.trimf(time.universe,[35,50,65])\n",
        "time['medium']=fuzzy.trimf(time.universe,[40,65,90])\n",
        "time['slow']=fuzzy.trimf(time.universe,[80,100,150])\n",
        "time['very_slow']=fuzzy.trimf(time.universe,[150,220,300])\n",
        "\n",
        "rice['very_much']=fuzzy.trimf(rice.universe,[170,200,200])\n",
        "rice['much']=fuzzy.trimf(rice.universe,[140,150,180])\n",
        "rice['medium']=fuzzy.trimf(rice.universe,[120,140,1600])\n",
        "rice['less']=fuzzy.trimf(rice.universe,[110,120,130])\n",
        "rice['very_less']=fuzzy.trimf(rice.universe,[100,100,120])\n",
        "\n",
        "power['very_high']=fuzzy.trimf(power.universe,[80,80,100])\n",
        "power['high']=fuzzy.trimf(power.universe,[60,70,80])\n",
        "power['medium']=fuzzy.trimf(power.universe,[40,50,60])\n",
        "power['low']=fuzzy.trimf(power.universe,[20,30,40])\n",
        "power['very_low']=fuzzy.trimf(power.universe,[0,10,20])\n",
        "\n",
        "rule1=ctrl.Rule(time['very_fast']&rice['very_much'],power['very_high'])\n",
        "rule2 = ctrl.Rule(time['very_fast'] & rice['much'], power['high'])\n",
        "rule3 = ctrl.Rule(time['very_fast'] & rice['medium'], power['medium'])\n",
        "rule4 = ctrl.Rule(time['very_fast'] & rice['less'], power['low'])\n",
        "rule5 = ctrl.Rule(time['very_fast'] & rice['very_less'], power['very_low'])\n",
        "\n",
        "rule6 = ctrl.Rule(time['fast'] & rice['very_much'], power['very_high'])\n",
        "rule7 = ctrl.Rule(time['fast'] & rice['much'], power['high'])\n",
        "rule8 = ctrl.Rule(time['fast'] & rice['medium'], power['medium'])\n",
        "rule9 = ctrl.Rule(time['fast'] & rice['less'], power['low'])\n",
        "rule10 = ctrl.Rule(time['fast'] & rice['very_less'], power['very_low'])\n",
        "\n",
        "rule11 = ctrl.Rule(time['medium'] & rice['very_much'], power['high'])\n",
        "rule12 = ctrl.Rule(time['medium'] & rice['much'], power['medium'])\n",
        "rule13 = ctrl.Rule(time['medium'] & rice['medium'], power['medium'])\n",
        "rule14 = ctrl.Rule(time['medium'] & rice['less'], power['low'])\n",
        "rule15 = ctrl.Rule(time['medium'] & rice['very_less'], power['very_low'])\n",
        "\n",
        "rule16 = ctrl.Rule(time['slow'] & rice['very_much'], power['medium'])\n",
        "rule17 = ctrl.Rule(time['slow'] & rice['much'], power['low'])\n",
        "rule18 = ctrl.Rule(time['slow'] & rice['medium'], power['low'])\n",
        "rule19 = ctrl.Rule(time['slow'] & rice['less'], power['very_low'])\n",
        "rule20 = ctrl.Rule(time['slow'] & rice['very_less'], power['very_low'])\n",
        "\n",
        "rule21 = ctrl.Rule(time['very_slow'] & rice['very_much'], power['low'])\n",
        "rule22 = ctrl.Rule(time['very_slow'] & rice['much'], power['very_low'])\n",
        "rule23 = ctrl.Rule(time['very_slow'] & rice['medium'], power['very_low'])\n",
        "rule24 = ctrl.Rule(time['very_slow'] & rice['less'], power['very_low'])\n",
        "rule25 = ctrl.Rule(time['very_slow'] & rice['very_less'], power['very_low'])\n",
        "\n",
        "power_ctrl=ctrl.ControlSystem([rule1,rule2,rule3,rule4,rule5,rule6,rule7,rule8,rule9,rule10,rule11,rule12,rule13,rule14,rule15,rule16,rule17,rule18,rule19,rule20,rule21,rule22,rule23,rule24,rule25])\n",
        "powered=ctrl.ControlSystemSimulation(power_ctrl)\n",
        "powered.input['time']=90\n",
        "powered.input['rice']=140\n",
        "powered.compute()\n",
        "print(powered.output['power'])\n",
        "\n",
        "\n"
      ]
    }
  ]
}