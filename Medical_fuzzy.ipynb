{
  "nbformat": 4,
  "nbformat_minor": 0,
  "metadata": {
    "colab": {
      "provenance": [],
      "authorship_tag": "ABX9TyPg2xJ2rRPbWICUdKg154hL",
      "include_colab_link": true
    },
    "kernelspec": {
      "name": "python3",
      "display_name": "Python 3"
    },
    "language_info": {
      "name": "python"
    }
  },
  "cells": [
    {
      "cell_type": "markdown",
      "metadata": {
        "id": "view-in-github",
        "colab_type": "text"
      },
      "source": [
        "<a href=\"https://colab.research.google.com/github/binhduc0402/BT_AI/blob/main/Medical_fuzzy.ipynb\" target=\"_parent\"><img src=\"https://colab.research.google.com/assets/colab-badge.svg\" alt=\"Open In Colab\"/></a>"
      ]
    },
    {
      "cell_type": "code",
      "execution_count": null,
      "metadata": {
        "colab": {
          "base_uri": "https://localhost:8080/"
        },
        "id": "FQWjShgTmzlE",
        "outputId": "fa1c87e1-c1ed-4239-97de-9daedfde3c08"
      },
      "outputs": [
        {
          "output_type": "stream",
          "name": "stdout",
          "text": [
            "Looking in indexes: https://pypi.org/simple, https://us-python.pkg.dev/colab-wheels/public/simple/\n",
            "Collecting scikit-fuzzy\n",
            "  Downloading scikit-fuzzy-0.4.2.tar.gz (993 kB)\n",
            "\u001b[2K     \u001b[90m━━━━━━━━━━━━━━━━━━━━━━━━━━━━━━━━━━━━━━\u001b[0m \u001b[32m994.0/994.0 KB\u001b[0m \u001b[31m10.5 MB/s\u001b[0m eta \u001b[36m0:00:00\u001b[0m\n",
            "\u001b[?25h  Preparing metadata (setup.py) ... \u001b[?25l\u001b[?25hdone\n",
            "Requirement already satisfied: numpy>=1.6.0 in /usr/local/lib/python3.8/dist-packages (from scikit-fuzzy) (1.22.4)\n",
            "Requirement already satisfied: scipy>=0.9.0 in /usr/local/lib/python3.8/dist-packages (from scikit-fuzzy) (1.7.3)\n",
            "Requirement already satisfied: networkx>=1.9.0 in /usr/local/lib/python3.8/dist-packages (from scikit-fuzzy) (3.0)\n",
            "Building wheels for collected packages: scikit-fuzzy\n",
            "  Building wheel for scikit-fuzzy (setup.py) ... \u001b[?25l\u001b[?25hdone\n",
            "  Created wheel for scikit-fuzzy: filename=scikit_fuzzy-0.4.2-py3-none-any.whl size=894088 sha256=29d8e13acd55217b8b2789d064dc56475120bf67765b3eb2170eb007a481520d\n",
            "  Stored in directory: /root/.cache/pip/wheels/2c/04/80/7eefb1a2de7d36aefd06432fab2a1486caf0a0596a7067391a\n",
            "Successfully built scikit-fuzzy\n",
            "Installing collected packages: scikit-fuzzy\n",
            "Successfully installed scikit-fuzzy-0.4.2\n"
          ]
        }
      ],
      "source": [
        "pip install scikit-fuzzy"
      ]
    },
    {
      "cell_type": "code",
      "source": [
        "import skfuzzy as fuzzy\n",
        "import numpy as np\n",
        "import matplotlib.pyplot as plt\n",
        "from skfuzzy import control as ctrl\n",
        "\n",
        "fever = ctrl.Antecedent(np.arange(0, 1.1, 0.1), 'fever')\n",
        "headache = ctrl.Antecedent(np.arange(0, 1.1, 0.1), 'headache')\n",
        "nausea = ctrl.Antecedent(np.arange(0, 1.1, 0.1), 'nausea')\n",
        "vomiting = ctrl.Antecedent(np.arange(0, 1.1, 0.1), 'vomiting')\n",
        "jaundice = ctrl.Antecedent(np.arange(0, 1.1, 0.1), 'jaundice')\n",
        "enlarge_liver = ctrl.Antecedent(np.arange(0, 1.1, 0.1), 'enlarge_liver')\n",
        "joint_pain = ctrl.Antecedent(np.arange(0, 1.1, 0.1), 'joint_pain')\n",
        "body_weakness = ctrl.Antecedent(np.arange(0, 1.1, 0.1), 'body_weakness')\n",
        "dizziness = ctrl.Antecedent(np.arange(0, 1.1, 0.1), 'dizziness')\n",
        "loss_of_appetite = ctrl.Antecedent(np.arange(0, 1.1, 0.1), 'loss_of_appetite')\n",
        "MP = ctrl.Antecedent(np.arange(0, 1.1, 0.1), 'MP')\n",
        "conclusion=ctrl.Consequent(np.arange(0, 1.1, 0.1),'conclusion')\n",
        "\n",
        "fever['mild']=fuzzy.trimf(fever.universe,[0.1,0.2,0.3])\n",
        "fever['moderate']=fuzzy.trimf(fever.universe,[0.3,0.45,0.6])\n",
        "fever['severe']=fuzzy.trimf(fever.universe,[0.6,0.7,0.8])\n",
        "fever['very_severe']=fuzzy.trimf(fever.universe,[0.8,0.9,1])\n",
        "\n",
        "headache['mild'] = fuzzy.trimf(headache.universe, [0.1, 0.2, 0.3])\n",
        "headache['moderate'] = fuzzy.trimf(headache.universe, [0.3, 0.45, 0.6])\n",
        "headache['severe'] = fuzzy.trimf(headache.universe, [0.6, 0.7, 0.8])\n",
        "headache['very_severe'] = fuzzy.trimf(headache.universe, [0.8, 0.9, 1])\n",
        "\n",
        "nausea['mild'] = fuzzy.trimf(nausea.universe, [0.1, 0.2, 0.3])\n",
        "nausea['moderate'] = fuzzy.trimf(nausea.universe, [0.3, 0.45, 0.6])\n",
        "nausea['severe'] = fuzzy.trimf(nausea.universe, [0.6, 0.7, 0.8])\n",
        "nausea['very_severe'] = fuzzy.trimf(nausea.universe, [0.8, 0.9, 1])\n",
        "\n",
        "vomiting['mild'] = fuzzy.trimf(vomiting.universe, [0.1, 0.2, 0.3])\n",
        "vomiting['moderate'] = fuzzy.trimf(vomiting.universe, [0.3, 0.45, 0.6])\n",
        "vomiting['severe'] = fuzzy.trimf(vomiting.universe, [0.6, 0.7, 0.8])\n",
        "vomiting['very_severe'] = fuzzy.trimf(vomiting.universe, [0.8, 0.9, 1])\n",
        "\n",
        "jaundice['mild'] = fuzzy.trimf(jaundice.universe, [0.1, 0.2, 0.3])\n",
        "jaundice['moderate'] = fuzzy.trimf(jaundice.universe, [0.3, 0.45, 0.6])\n",
        "jaundice['severe'] = fuzzy.trimf(jaundice.universe, [0.6, 0.7, 0.8])\n",
        "jaundice['very_severe'] = fuzzy.trimf(jaundice.universe, [0.8, 0.9, 1])\n",
        "\n",
        "enlarge_liver['mild'] = fuzzy.trimf(enlarge_liver.universe, [0.1, 0.2, 0.3])\n",
        "enlarge_liver['moderate'] = fuzzy.trimf(enlarge_liver.universe, [0.3, 0.45, 0.6])\n",
        "enlarge_liver['severe'] = fuzzy.trimf(enlarge_liver.universe, [0.6, 0.7, 0.8])\n",
        "enlarge_liver['very_severe'] = fuzzy.trimf(enlarge_liver.universe, [0.8, 0.9, 1])\n",
        "\n",
        "joint_pain['mild'] = fuzzy.trimf(joint_pain.universe, [0.1, 0.2, 0.3])\n",
        "joint_pain['moderate'] = fuzzy.trimf(joint_pain.universe, [0.3, 0.45, 0.6])\n",
        "joint_pain['severe'] = fuzzy.trimf(joint_pain.universe, [0.6, 0.7, 0.8])\n",
        "joint_pain['very_severe'] = fuzzy.trimf(joint_pain.universe, [0.8, 0.9, 1])\n",
        "\n",
        "body_weakness['mild'] = fuzzy.trimf(body_weakness.universe, [0.1, 0.2, 0.3])\n",
        "body_weakness['moderate'] = fuzzy.trimf(body_weakness.universe, [0.3, 0.45, 0.6])\n",
        "body_weakness['severe'] = fuzzy.trimf(body_weakness.universe, [0.6, 0.7, 0.8])\n",
        "body_weakness['very_severe'] = fuzzy.trimf(body_weakness.universe, [0.8, 0.9, 1])\n",
        "\n",
        "dizziness['mild'] = fuzzy.trimf(dizziness.universe, [0.1, 0.2, 0.3])\n",
        "dizziness['moderate'] = fuzzy.trimf(dizziness.universe, [0.3, 0.45, 0.6])\n",
        "dizziness['severe'] = fuzzy.trimf(dizziness.universe, [0.6, 0.7, 0.8])\n",
        "dizziness['very_severe'] = fuzzy.trimf(dizziness.universe, [0.8, 0.9, 1])\n",
        "\n",
        "loss_of_appetite['mild'] = fuzzy.trimf(loss_of_appetite.universe, [0.1, 0.2, 0.3])\n",
        "loss_of_appetite['moderate'] = fuzzy.trimf(loss_of_appetite.universe, [0.3, 0.45, 0.6])\n",
        "loss_of_appetite['severe'] = fuzzy.trimf(loss_of_appetite.universe, [0.6, 0.7, 0.8])\n",
        "loss_of_appetite['very_severe'] = fuzzy.trimf(loss_of_appetite.universe, [0.8, 0.9, 1])\n",
        "\n",
        "MP['mild'] = fuzzy.trimf(MP.universe, [0.1, 0.2, 0.3])\n",
        "MP['moderate'] = fuzzy.trimf(MP.universe, [0.3, 0.45, 0.6])\n",
        "MP['severe'] = fuzzy.trimf(MP.universe, [0.6, 0.7, 0.8])\n",
        "MP['very_severe'] = fuzzy.trimf(MP.universe, [0.8, 0.9, 1])\n",
        "\n",
        "conclusion['mild'] = fuzzy.trimf(conclusion.universe, [0.1, 0.2, 0.3])\n",
        "conclusion['moderate'] = fuzzy.trimf(conclusion.universe, [0.3, 0.45, 0.6])\n",
        "conclusion['severe'] = fuzzy.trimf(conclusion.universe, [0.6, 0.7, 0.8])\n",
        "conclusion['very_severe'] = fuzzy.trimf(conclusion.universe, [0.8, 0.9, 1])\n",
        "\n",
        "rules=[ctrl.Rule(fever['mild']|headache['mild']|nausea['mild']|vomiting['mild']|jaundice['mild']|enlarge_liver['mild']|joint_pain['mild']\n",
        "                |body_weakness['mild']|dizziness['severe']|loss_of_appetite['mild']|MP['mild'],conclusion['mild']),\n",
        "       ctrl.Rule(fever['moderate']|headache['mild']|nausea['mild']|vomiting['mild']|jaundice['mild']|enlarge_liver['mild']|joint_pain['moderate']\n",
        "                |body_weakness['moderate']|dizziness['severe']|loss_of_appetite['severe']|MP['moderate'],conclusion['moderate']),\n",
        "       ctrl.Rule(fever['severe']|headache['moderate']|nausea['mild']|vomiting['mild']|jaundice['mild']|enlarge_liver['mild']|joint_pain['mild']\n",
        "                |body_weakness['severe']|dizziness['severe']|loss_of_appetite['severe']|MP['moderate'],conclusion['severe']),\n",
        "       ctrl.Rule(fever['very_severe']|headache['mild']|nausea['mild']|vomiting['mild']|jaundice['mild']|enlarge_liver['mild']|joint_pain['severe']\n",
        "                |body_weakness['severe']|dizziness['mild']|loss_of_appetite['mild']|MP['severe'],conclusion['very_severe']),\n",
        "       ctrl.Rule(fever['moderate']|headache['mild']|nausea['mild']|vomiting['moderate']|jaundice['mild']|enlarge_liver['mild']|joint_pain['moderate']\n",
        "                |body_weakness['moderate']|dizziness['moderate']|loss_of_appetite['severe']|MP['moderate'],conclusion['moderate']),\n",
        "       ctrl.Rule(fever['mild']|headache['moderate']|nausea['moderate']|vomiting['mild']|jaundice['mild']|enlarge_liver['mild']|joint_pain['mild']\n",
        "                |body_weakness['mild']|dizziness['moderate']|loss_of_appetite['mild']|MP['mild'],conclusion['mild']),\n",
        "       ctrl.Rule(fever['mild']|headache['mild']|nausea['moderate']|vomiting['moderate']|jaundice['mild']|enlarge_liver['mild']|joint_pain['severe']\n",
        "                |body_weakness['severe']|dizziness['moderate']|loss_of_appetite['moderate']|MP['moderate'],conclusion['severe']),\n",
        "       ctrl.Rule(fever['severe']|headache['severe']|nausea['severe']|vomiting['severe']|jaundice['severe']|enlarge_liver['severe']|joint_pain['severe'] \n",
        "                |body_weakness['severe']|dizziness['severe']|loss_of_appetite['severe']|MP['very_severe'],conclusion['very_severe']),\n",
        "       ctrl.Rule(fever['moderate'] | headache['severe'] | nausea['severe'] | vomiting['moderate'] | jaundice['severe'] | \n",
        "                  enlarge_liver['severe'] | joint_pain['severe'] | body_weakness['severe'] | dizziness['severe'] | \n",
        "                  loss_of_appetite['severe'] | MP['very_severe'], conclusion['very_severe']),\n",
        "        ctrl.Rule(fever['mild'] | headache['mild'] | nausea['mild'] | vomiting['mild'] | jaundice['mild'] | \n",
        "                  enlarge_liver['mild'] | joint_pain['mild'] | body_weakness['mild'] | dizziness['mild'] | \n",
        "                  loss_of_appetite['mild'] | MP['moderate'], conclusion['moderate']),\n",
        "        ctrl.Rule(fever['mild'] | headache['mild'] | nausea['mild'] | vomiting['mild'] | jaundice['mild'] | \n",
        "                  enlarge_liver['mild'] | joint_pain['mild'] | body_weakness['mild'] | dizziness['mild'] | \n",
        "                  loss_of_appetite['mild'] | MP['mild'], conclusion['mild']),\n",
        "        ctrl.Rule(fever['moderate'] | headache['moderate'] | nausea['moderate'] | vomiting['moderate'] | jaundice['moderate'] | \n",
        "                  enlarge_liver['moderate'] | joint_pain['moderate'] | body_weakness['moderate'] | dizziness['moderate'] | \n",
        "                  loss_of_appetite['moderate'] | MP['moderate'], conclusion['moderate']),\n",
        "        ctrl.Rule(fever['severe'] | headache['severe'] | nausea['severe'] | vomiting['severe'] | jaundice['severe'] | \n",
        "                  enlarge_liver['severe'] | joint_pain['severe'] | body_weakness['severe'] | dizziness['severe'] | \n",
        "                  loss_of_appetite['severe'] | MP['severe'], conclusion['severe']),\n",
        "        ctrl.Rule(fever['very_severe'] | headache['very_severe'] | nausea['very_severe'] | vomiting['very_severe'] | \n",
        "                  jaundice['very_severe'] | enlarge_liver['very_severe'] | joint_pain['very_severe'] | \n",
        "                  body_weakness['very_severe'] | dizziness['very_severe'] | loss_of_appetite['very_severe'] | \n",
        "                  MP['very_severe'], conclusion['very_severe']),\n",
        "        ctrl.Rule(fever['mild'] | headache['severe'] | nausea['severe'] | vomiting['mild'] | jaundice['mild'] | enlarge_liver['mild'] | joint_pain['mild']\n",
        "          | body_weakness['moderate'] | dizziness['moderate'] | loss_of_appetite['mild'] | MP['mild'], conclusion['mild']),\n",
        "        ctrl.Rule(fever['moderate'] | headache['severe'] | nausea['moderate'] | vomiting['moderate'] | jaundice['moderate'] | enlarge_liver['moderate'] | joint_pain['severe']\n",
        "          | body_weakness['severe'] | dizziness['severe'] | loss_of_appetite['moderate'] | MP['moderate'], conclusion['severe']),\n",
        "        ctrl.Rule(fever['severe'] | headache['severe'] | nausea['severe'] | vomiting['severe'] | jaundice['severe'] | enlarge_liver['severe'] | joint_pain['severe']\n",
        "          | body_weakness['severe'] | dizziness['severe'] | loss_of_appetite['severe'] | MP['severe'], conclusion['severe']),\n",
        "        ctrl.Rule(fever['very_severe'] | headache['very_severe'] | nausea['very_severe'] | vomiting['very_severe'] | jaundice['very_severe'] | enlarge_liver['very_severe'] | joint_pain['very_severe']\n",
        "          | body_weakness['very_severe'] | dizziness['very_severe'] | loss_of_appetite['very_severe'] | MP['very_severe'], conclusion['very_severe']),\n",
        "        ctrl.Rule(fever['moderate'] | headache['moderate'] | nausea['severe'] | vomiting['severe'] | jaundice['moderate'] | enlarge_liver['moderate'] | joint_pain['moderate']\n",
        "          | body_weakness['severe'] | dizziness['severe'] | loss_of_appetite['severe'] | MP['severe'], conclusion['severe']),\n",
        "        ctrl.Rule(fever['mild'] | headache['mild'] | nausea['mild'] | vomiting['mild'] | jaundice['severe'] | enlarge_liver['severe'] | joint_pain['mild']\n",
        "          | body_weakness['mild'] | dizziness['mild'] | loss_of_appetite['mild'] | MP['mild'], conclusion['mild'])\n",
        "      ]\n",
        "\n",
        "conclusion_ctrl=ctrl.ControlSystem(rules)\n",
        "conclusions=ctrl.ControlSystemSimulation(conclusion_ctrl)\n",
        "conclusions.input['fever']=0.9\n",
        "conclusions.input['headache']=0.99\n",
        "conclusions.input['nausea']=0.6\n",
        "conclusions.input['vomiting']=0.2\n",
        "conclusions.input['jaundice']=1\n",
        "conclusions.input['enlarge_liver']=0.4\n",
        "conclusions.input['joint_pain']=0.6\n",
        "conclusions.input['body_weakness']=0.5\n",
        "conclusions.input['dizziness']=0.4\n",
        "conclusions.input['loss_of_appetite']=0.\n",
        "conclusions.input['MP']=0.8\n",
        "conclusions.compute()\n",
        "print(conclusions.output['conclusion'])\n",
        "conclusion.view(sim=conclusions)"
      ],
      "metadata": {
        "colab": {
          "base_uri": "https://localhost:8080/",
          "height": 298
        },
        "id": "wHYakMYUnstG",
        "outputId": "2327b39b-b0a7-4e5d-ef25-27a668bf599d"
      },
      "execution_count": 17,
      "outputs": [
        {
          "output_type": "stream",
          "name": "stdout",
          "text": [
            "0.5538461538461539\n"
          ]
        },
        {
          "output_type": "display_data",
          "data": {
            "text/plain": [
              "<Figure size 432x288 with 1 Axes>"
            ],
            "image/png": "[encoded data removed]"
          },
          "metadata": {
            "needs_background": "light"
          }
        }
      ]
    }
  ]
}